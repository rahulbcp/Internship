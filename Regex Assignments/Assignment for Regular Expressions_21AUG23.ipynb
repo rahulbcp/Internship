{
 "cells": [
  {
   "cell_type": "code",
   "execution_count": 1,
   "id": "4520433a",
   "metadata": {},
   "outputs": [],
   "source": [
    "import re"
   ]
  },
  {
   "cell_type": "markdown",
   "id": "5e99db28",
   "metadata": {},
   "source": [
    "**Question 1- Write a Python program to replace all occurrences of a space, comma, or dot with a colon.\n",
    "Sample Text- 'Python Exercises, PHP exercises.'\n",
    "Expected Output: Python:Exercises::PHP:exercises:"
   ]
  },
  {
   "cell_type": "code",
   "execution_count": 4,
   "id": "84caaa32",
   "metadata": {},
   "outputs": [
    {
     "name": "stdout",
     "output_type": "stream",
     "text": [
      "Python:Exercises::PHP:exercises:\n"
     ]
    }
   ],
   "source": [
    "# Answer 1\n",
    "Sample_Text = 'Python Exercises, PHP exercises.'\n",
    "replace = re.sub(r\"\\s+|,|\\W\", \":\", Sample_Text)\n",
    "print(replace)"
   ]
  },
  {
   "cell_type": "markdown",
   "id": "04c20613",
   "metadata": {},
   "source": [
    "**Question 2-  Write a Python program to find all words starting with 'a' or 'e' in a given string."
   ]
  },
  {
   "cell_type": "code",
   "execution_count": 5,
   "id": "dfe1766b",
   "metadata": {},
   "outputs": [
    {
     "name": "stdout",
     "output_type": "stream",
     "text": [
      "['apple', 'eagle', 'elephant']\n"
     ]
    }
   ],
   "source": [
    "# Answer 2\n",
    "text = \"apple, eagle, elephant\"\n",
    "match = re.findall(r\"\\b[ae+]\\w+\", text)\n",
    "print(match)"
   ]
  },
  {
   "cell_type": "markdown",
   "id": "0e1f4b29",
   "metadata": {},
   "source": [
    "**Question 3- Create a function in python to find all words that are at least 4 characters long in a string. The use of the re.compile() method is mandatory."
   ]
  },
  {
   "cell_type": "code",
   "execution_count": 6,
   "id": "fb7f4cdb",
   "metadata": {},
   "outputs": [
    {
     "name": "stdout",
     "output_type": "stream",
     "text": [
      "['mature', 'Integration', 'phase', 'with', 'estimated', 'population', 'over', 'five', 'million', 'people', 'larger', 'than', 'either', 'Egypt', 'Mesopotamia']\n"
     ]
    }
   ],
   "source": [
    "#Answer 3\n",
    "pattern = r\"\\w{4,}\"\n",
    "text = \"In its mature (Integration) phase with an estimated population of over five million people, it was larger than either Egypt or Mesopotamia.\"\n",
    "regex_pattern = re.compile(pattern)\n",
    "age = regex_pattern.findall(text)\n",
    "print(age)"
   ]
  },
  {
   "cell_type": "markdown",
   "id": "5b860c7c",
   "metadata": {},
   "source": [
    "**Question 4- Create a function in python to find all three, four, and five character words in a string. The use of the re.compile() method is mandatory."
   ]
  },
  {
   "cell_type": "code",
   "execution_count": 7,
   "id": "8f8a16f4",
   "metadata": {},
   "outputs": [
    {
     "name": "stdout",
     "output_type": "stream",
     "text": [
      "['its', 'phase', 'with', 'over', 'five', 'was', 'than', 'Egypt']\n"
     ]
    }
   ],
   "source": [
    "# Answer 4\n",
    "pattern = r\"\\b\\w{3,5}\\b\"\n",
    "text = \"In its mature (Integration) phase with an estimated population of over five million people, it was larger than either Egypt or Mesopotamia.\"\n",
    "regex_pattern = re.compile(pattern)\n",
    "words = regex_pattern.findall(text)\n",
    "print(words)"
   ]
  },
  {
   "cell_type": "markdown",
   "id": "d8e7ee3b",
   "metadata": {},
   "source": [
    "**Question 5- Create a function in Python to remove the parenthesis in a list of strings. The use of the re.compile() method is mandatory. Sample Text: [\"example (.com)\", \"hr@fliprobo (.com)\", \"github (.com)\", \"Hello (Data Science World)\", \"Data (Scientist)\"] Expected Output: example.com hr@fliprobo.com github.com Hello Data Science World Data Scientist"
   ]
  },
  {
   "cell_type": "code",
   "execution_count": 8,
   "id": "89a0800a",
   "metadata": {},
   "outputs": [
    {
     "name": "stdout",
     "output_type": "stream",
     "text": [
      "example.com\n",
      "hr@fliprobo.com\n",
      "github.com\n",
      "Hello Data Science World\n",
      "Data Scientist\n"
     ]
    }
   ],
   "source": [
    "#Answer 5\n",
    "Sample_Text = [\"example (.com)\", \"hr@fliprobo (.com)\", \"github (.com)\", \"Hello (Data Science World)\", \"Data (Scientist)\"] \n",
    "pattern = re.compile(r'\\s\\((?=[A.z])|\\)|\\(')\n",
    "for match in Sample_Text:\n",
    "    match1 = pattern.sub('', match)\n",
    "    print (match1)"
   ]
  },
  {
   "cell_type": "markdown",
   "id": "2754071f",
   "metadata": {},
   "source": [
    "***Question 6- Write a python program to remove the parenthesis area from the text stored in the text file using Regular Expression.\n",
    "Sample Text: [\"example (.com)\", \"hr@fliprobo (.com)\", \"github (.com)\", \"Hello (Data Science World)\", \"Data (Scientist)\"]\n",
    "Expected Output: [\"example\", \"hr@fliprobo\", \"github\", \"Hello\", \"Data\"]\n",
    "Note- Store given sample text in the text file and then to remove the parenthesis area from the text."
   ]
  },
  {
   "cell_type": "code",
   "execution_count": 9,
   "id": "e8a0f88d",
   "metadata": {},
   "outputs": [
    {
     "name": "stdout",
     "output_type": "stream",
     "text": [
      "[\"example\", \"hr@fliprobo\", \"github\", \"Hello\", \"Data\"]\n",
      "\n"
     ]
    }
   ],
   "source": [
    "# Answer 6\n",
    "Text_file = open(r\"C:\\Users\\Admin\\Desktop\\Flip lobo\\text file\\Sample_Text.txt\")\n",
    "pattern = r'\\s*\\([^)]*\\)'\n",
    "for string in Text_file:\n",
    "    output = re.sub(pattern, '', string)\n",
    "    print (output)"
   ]
  },
  {
   "cell_type": "markdown",
   "id": "d90504f6",
   "metadata": {},
   "source": [
    "***Question 7- Write a regular expression in Python to split a string into uppercase letters. Sample text: “ImportanceOfRegularExpressionsInPython” Expected Output: [‘Importance’, ‘Of’, ‘Regular’, ‘Expression’, ‘In’, ‘Python’]"
   ]
  },
  {
   "cell_type": "code",
   "execution_count": 11,
   "id": "54e30bb0",
   "metadata": {},
   "outputs": [
    {
     "name": "stdout",
     "output_type": "stream",
     "text": [
      "['Importance', 'Of', 'Regular', 'Expressions', 'In', 'Python']\n"
     ]
    }
   ],
   "source": [
    "## Answer 7\n",
    "Sample_text = \"ImportanceOfRegularExpressionsInPython\"\n",
    "pattern = r'(?<=[a-z])(?=[A-Z])'\n",
    "split = re.split(pattern, Sample_text)\n",
    "print(split)"
   ]
  },
  {
   "cell_type": "markdown",
   "id": "431428a6",
   "metadata": {},
   "source": [
    "**Question 8- Create a function in python to insert spaces between words starting with numbers.\n",
    "Sample Text: “RegularExpression1IsAn2ImportantTopic3InPython\"\n",
    "Expected Output: RegularExpression 1IsAn 2ImportantTopic 3InPython\n"
   ]
  },
  {
   "cell_type": "code",
   "execution_count": 16,
   "id": "0b4e3b62",
   "metadata": {},
   "outputs": [
    {
     "name": "stdout",
     "output_type": "stream",
     "text": [
      "RegularExpression 1IsAn 2ImportantTopic 3InPython\n"
     ]
    }
   ],
   "source": [
    "## Answer 8\n",
    "Sample_text = \"RegularExpression1IsAn2ImportantTopic3InPython\"\n",
    "pattern = r\"(?=\\d+)\"\n",
    "split = re.sub(pattern, \" \", Sample_text)\n",
    "print(split)"
   ]
  },
  {
   "cell_type": "markdown",
   "id": "9695b796",
   "metadata": {},
   "source": [
    "**Question 9- Create a function in python to insert spaces between words starting with capital letters or with numbers.\n",
    "Sample Text: “RegularExpression1IsAn2ImportantTopic3InPython\"\n",
    "Expected Output:  RegularExpression 1 IsAn 2 ImportantTopic 3 InPython\n"
   ]
  },
  {
   "cell_type": "code",
   "execution_count": 17,
   "id": "4644c511",
   "metadata": {},
   "outputs": [
    {
     "name": "stdout",
     "output_type": "stream",
     "text": [
      "RegularExpression 1 IsAn 2 ImportantTopic 3 InPython\n"
     ]
    }
   ],
   "source": [
    "## Answer 9\n",
    "Sample_text = \"RegularExpression1IsAn2ImportantTopic3InPython\"\n",
    "pattern = r'([a-z])([0-9])([A-Z])'\n",
    "split = re.sub(pattern, r'\\1 \\2 \\3', Sample_text)\n",
    "print(split)"
   ]
  },
  {
   "cell_type": "markdown",
   "id": "426df26f",
   "metadata": {},
   "source": [
    "**Question 10- Write a python program to extract email address from the text stored in the text file using Regular Expression. Sample Text- Hello my name is Data Science and my email address is xyz@domain.com and alternate email address is xyz.abc@sdomain.domain.com. Please contact us at hr@fliprobo.com for further information. Expected Output: ['xyz@domain.com', 'xyz.abc@sdomain.domain.com'] ['hr@fliprobo.com']"
   ]
  },
  {
   "cell_type": "code",
   "execution_count": 18,
   "id": "c895f8f1",
   "metadata": {},
   "outputs": [
    {
     "name": "stdout",
     "output_type": "stream",
     "text": [
      "['xyz@domain.com', 'xyz.abc@sdomain.domain.com']\n",
      "['hr@fliprobo.com']\n"
     ]
    }
   ],
   "source": [
    "## Answer 10\n",
    "Text_file = open(r\"C:\\Users\\Admin\\Desktop\\Flip lobo\\text file\\Email_address.txt\")\n",
    "pattern = r'\\b[A-Za-z.]+@[A-Za-z]+.[a-z]+\\.com\\b'\n",
    "for string in Text_file:\n",
    "    output = re.findall(pattern,string)\n",
    "    print (output)"
   ]
  },
  {
   "cell_type": "markdown",
   "id": "7d5e0e29",
   "metadata": {},
   "source": [
    "**Question 11- Write a Python program to match a string that contains only upper and lowercase letters, numbers, and underscores."
   ]
  },
  {
   "cell_type": "code",
   "execution_count": 19,
   "id": "c22f691e",
   "metadata": {},
   "outputs": [
    {
     "name": "stdout",
     "output_type": "stream",
     "text": [
      "<re.Match object; span=(0, 12), match='RahuL123_123'>\n"
     ]
    }
   ],
   "source": [
    "## Answer 11\n",
    "string = 'RahuL123_123'\n",
    "pattern = r'\\w+'\n",
    "match = re.match(pattern, string)\n",
    "print(match)"
   ]
  },
  {
   "cell_type": "markdown",
   "id": "b6bde955",
   "metadata": {},
   "source": [
    "**Question 12- Write a Python program where a string will start with a specific number."
   ]
  },
  {
   "cell_type": "code",
   "execution_count": 20,
   "id": "e1658402",
   "metadata": {},
   "outputs": [
    {
     "name": "stdout",
     "output_type": "stream",
     "text": [
      "['123']\n",
      "['123']\n",
      "[]\n",
      "['123']\n",
      "[]\n",
      "[]\n"
     ]
    }
   ],
   "source": [
    "## Answer 12\n",
    "string = [\"123Datascientist\", \"123Datacience\", \"879India\", \"123Rahul\", \"Rahul123\", \"India123\"] \n",
    "pattern = '^123'\n",
    "for numbers in string:\n",
    "    specific_number = re.findall(pattern, numbers)\n",
    "    print(specific_number)"
   ]
  },
  {
   "cell_type": "markdown",
   "id": "74e18088",
   "metadata": {},
   "source": [
    "**Question 13- Write a Python program to remove leading zeros from an IP address"
   ]
  },
  {
   "cell_type": "code",
   "execution_count": 21,
   "id": "2d903d37",
   "metadata": {},
   "outputs": [
    {
     "name": "stdout",
     "output_type": "stream",
     "text": [
      "192.12.1.110\n"
     ]
    }
   ],
   "source": [
    "## Answer 13\n",
    "string = '192.012.001.110' \n",
    "pattern = r'(?=.\\d+)0'\n",
    "remove = re.sub(pattern, '', string)\n",
    "print(remove)"
   ]
  },
  {
   "cell_type": "markdown",
   "id": "efc2eae1",
   "metadata": {},
   "source": [
    "**Question 14- Write a regular expression in python to match a date string in the form of Month name followed by day number and year stored in a text file. Sample text : ' On August 15th 1947 that India was declared independent from British colonialism, and the reins of control were handed over to the leaders of the Country’. Expected Output- August 15th 1947 Note- Store given sample text in the text file and then extract the date string asked format."
   ]
  },
  {
   "cell_type": "code",
   "execution_count": 22,
   "id": "fe4b2289",
   "metadata": {},
   "outputs": [
    {
     "name": "stdout",
     "output_type": "stream",
     "text": [
      "August 15th 1947\n"
     ]
    }
   ],
   "source": [
    "## Answer 14\n",
    "Text_file = open(r\"C:\\Users\\Admin\\Desktop\\Flip lobo\\text file\\Date_text.txt\")\n",
    "pattern = r'(?:January|February|March|April|May|June|July|August|September|October|November|December)\\s+\\d{1,2}(?:st|nd|rd|th)?\\s+\\d{4}\\b'\n",
    "for string in Text_file:\n",
    "    output = re.search(pattern,string)\n",
    "    if output:\n",
    "        print(output.group())"
   ]
  },
  {
   "cell_type": "markdown",
   "id": "76cb5372",
   "metadata": {},
   "source": [
    "**Question 15- Write a Python program to search some literals strings in a string. \n",
    "Sample text : 'The quick brown fox jumps over the lazy dog.'\n",
    "Searched words : 'fox', 'dog', 'horse'"
   ]
  },
  {
   "cell_type": "code",
   "execution_count": 23,
   "id": "c2e7c4b7",
   "metadata": {},
   "outputs": [
    {
     "name": "stdout",
     "output_type": "stream",
     "text": [
      "['fox', 'dog']\n"
     ]
    }
   ],
   "source": [
    "## Answer 15\n",
    "Sample_text = 'The quick brown fox jumps over the lazy dog.'\n",
    "pattern = \"(?:fox|dog|horse)+\"\n",
    "search1 = re.findall(pattern, Sample_text)\n",
    "print(search1)"
   ]
  },
  {
   "cell_type": "markdown",
   "id": "2d75b7f7",
   "metadata": {},
   "source": [
    "**Question 16- Write a Python program to search a literals string in a string and also find the location within the original string where the pattern occurs\n",
    "Sample text : 'The quick brown fox jumps over the lazy dog.'\n",
    "Searched words : 'fox'\n"
   ]
  },
  {
   "cell_type": "code",
   "execution_count": 24,
   "id": "907eb9ee",
   "metadata": {},
   "outputs": [
    {
     "name": "stdout",
     "output_type": "stream",
     "text": [
      "<re.Match object; span=(16, 19), match='fox'>\n"
     ]
    }
   ],
   "source": [
    "## Answer 16\n",
    "Sample_text = 'The quick brown fox jumps over the lazy dog.'\n",
    "pattern = \"(fox)\"\n",
    "search1 = re.search(pattern, Sample_text)\n",
    "print(search1)"
   ]
  },
  {
   "cell_type": "markdown",
   "id": "ea02aa60",
   "metadata": {},
   "source": [
    "**Question 17- Write a Python program to find the substrings within a string.\n",
    "Sample text : 'Python exercises, PHP exercises, C# exercises'\n",
    "Pattern : 'exercises'."
   ]
  },
  {
   "cell_type": "code",
   "execution_count": 25,
   "id": "8f5ed83e",
   "metadata": {},
   "outputs": [
    {
     "name": "stdout",
     "output_type": "stream",
     "text": [
      "['exercises', 'exercises', 'exercises']\n"
     ]
    }
   ],
   "source": [
    "##Answer 17\n",
    "Sample_text = 'Python exercises, PHP exercises, C# exercises'\n",
    "pattern = 'exercises'\n",
    "output = re.findall(pattern, Sample_text)\n",
    "print(output)"
   ]
  },
  {
   "cell_type": "markdown",
   "id": "87d4996c",
   "metadata": {},
   "source": [
    "**Question 18- Write a Python program to find the occurrence and position of the substrings within a string."
   ]
  },
  {
   "cell_type": "code",
   "execution_count": 26,
   "id": "989f6241",
   "metadata": {},
   "outputs": [
    {
     "name": "stdout",
     "output_type": "stream",
     "text": [
      "<re.Match object; span=(7, 16), match='exercises'>\n",
      "<re.Match object; span=(4, 13), match='exercises'>\n",
      "<re.Match object; span=(3, 12), match='exercises'>\n"
     ]
    }
   ],
   "source": [
    "##Answer 18\n",
    "Sample_text = ['Python exercises', 'PHP exercises', 'C# exercises']\n",
    "pattern = 'exercises'\n",
    "for string in Sample_text:\n",
    "    output = re.search(pattern, string)\n",
    "    print(output)"
   ]
  },
  {
   "cell_type": "markdown",
   "id": "f88b1f1a",
   "metadata": {},
   "source": [
    "**Question 19- Write a Python program to convert a date of yyyy-mm-dd format to dd-mm-yyyy format."
   ]
  },
  {
   "cell_type": "code",
   "execution_count": 27,
   "id": "1486ec39",
   "metadata": {},
   "outputs": [
    {
     "name": "stdout",
     "output_type": "stream",
     "text": [
      "dd-mm-yyyy\n"
     ]
    }
   ],
   "source": [
    "##Answer 19\n",
    "pattern = \"yyy-mm-dd\"\n",
    "string = \"yyy-mm-dd\"\n",
    "convert = re.sub(pattern, \"dd-mm-yyyy\", string)\n",
    "print(convert)"
   ]
  },
  {
   "cell_type": "markdown",
   "id": "d7cbb94a",
   "metadata": {},
   "source": [
    "**Question 20- Create a function in python to find all decimal numbers with a precision of 1 or 2 in a string. The use of the re.compile() method is mandatory.\n",
    "Sample Text: \"01.12 0132.123 2.31875 145.8 3.01 27.25 0.25\"\n",
    "Expected Output: ['01.12', '145.8', '3.01', '27.25', '0.25']"
   ]
  },
  {
   "cell_type": "code",
   "execution_count": 39,
   "id": "7014536b",
   "metadata": {},
   "outputs": [
    {
     "name": "stdout",
     "output_type": "stream",
     "text": [
      "['01.12', '145.8', '3.01', '27.25', '0.25']\n"
     ]
    }
   ],
   "source": [
    "##Answer 20\n",
    "pattern = r'\\b\\d+\\.\\d{1,2}\\b'\n",
    "Sample_Text = '01.12 0132.123 2.31875 145.8 3.01 27.25 0.25'\n",
    "regex_pattern = re.compile(pattern)\n",
    "output = regex_pattern.findall(Sample_Text)\n",
    "print(output)"
   ]
  },
  {
   "cell_type": "markdown",
   "id": "6a7a864f",
   "metadata": {},
   "source": [
    "**Question 21- Write a Python program to separate and print the numbers and their position of a given string."
   ]
  },
  {
   "cell_type": "code",
   "execution_count": 29,
   "id": "befd3809",
   "metadata": {},
   "outputs": [
    {
     "name": "stdout",
     "output_type": "stream",
     "text": [
      "<re.Match object; span=(3, 8), match='12345'>\n"
     ]
    }
   ],
   "source": [
    "##Answer 21\n",
    "pattern = '\\d+'\n",
    "string = 'abc12345def'\n",
    "separate = re.search(pattern, string)\n",
    "print(separate)\n"
   ]
  },
  {
   "cell_type": "markdown",
   "id": "15e70942",
   "metadata": {},
   "source": [
    "**Question 22- Write a regular expression in python program to extract maximum/largest numeric value from a string.\n",
    "Sample Text:  'My marks in each semester are: 947, 896, 926, 524, 734, 950, 642'\n",
    "Expected Output: 950\n"
   ]
  },
  {
   "cell_type": "code",
   "execution_count": 30,
   "id": "cda048c7",
   "metadata": {},
   "outputs": [
    {
     "name": "stdout",
     "output_type": "stream",
     "text": [
      "950\n"
     ]
    }
   ],
   "source": [
    "## Answer 22\n",
    "Sample_text = 'My marks in each semester are: 947, 896, 926, 524, 734, 950, 642'\n",
    "numbers = re.findall(r'\\d+', Sample_text)\n",
    "number1 = map(int, numbers)\n",
    "maximum = max(number1)\n",
    "print(maximum)"
   ]
  },
  {
   "cell_type": "markdown",
   "id": "008fb300",
   "metadata": {},
   "source": [
    "**Question 23- Create a function in python to insert spaces between words starting with capital letters.\n",
    "Sample Text: “RegularExpressionIsAnImportantTopicInPython\"\n",
    "Expected Output: Regular Expression Is An Important Topic In Python"
   ]
  },
  {
   "cell_type": "code",
   "execution_count": 31,
   "id": "743a2bfc",
   "metadata": {},
   "outputs": [
    {
     "name": "stdout",
     "output_type": "stream",
     "text": [
      " Regular Expression Is An Important Topic In Python\n"
     ]
    }
   ],
   "source": [
    "## Answer 23\n",
    "Sample_Text = 'RegularExpressionIsAnImportantTopicInPython'\n",
    "pattern = r'(?=[A-Z])'\n",
    "output = re.sub(pattern, ' ', Sample_Text)\n",
    "print(output)"
   ]
  },
  {
   "cell_type": "markdown",
   "id": "331646f0",
   "metadata": {},
   "source": [
    "**Question 24- Python regex to find sequences of one upper case letter followed by lower case letters"
   ]
  },
  {
   "cell_type": "code",
   "execution_count": 32,
   "id": "bcab3169",
   "metadata": {},
   "outputs": [
    {
     "name": "stdout",
     "output_type": "stream",
     "text": [
      "['Regular', 'Expression', 'Is', 'An', 'Important', 'Topic', 'In', 'Python']\n"
     ]
    }
   ],
   "source": [
    "## Answer 24\n",
    "Sample_Text = 'Regular Expression Is An Important Topic In Python'\n",
    "pattern = r'[A-Za-z]+'\n",
    "sequence = re.findall(pattern, Sample_Text)\n",
    "print(sequence)"
   ]
  },
  {
   "cell_type": "markdown",
   "id": "2c06ebdf",
   "metadata": {},
   "source": [
    "**Question 25- Write a Python program to remove continuous duplicate words from Sentence using Regular Expression.\n",
    "Sample Text: \"Hello hello world world\"\n",
    "Expected Output: Hello hello world"
   ]
  },
  {
   "cell_type": "code",
   "execution_count": 33,
   "id": "661f9f27",
   "metadata": {},
   "outputs": [
    {
     "name": "stdout",
     "output_type": "stream",
     "text": [
      "Hello hello world\n"
     ]
    }
   ],
   "source": [
    "##Answer 25\n",
    "Sample_text = 'Hello hello world world'\n",
    "pattern = r'(world)(?:\\W+\\1\\b)+'\n",
    "output = re.sub(pattern, r'\\1', Sample_text)\n",
    "print(output)\n"
   ]
  },
  {
   "cell_type": "markdown",
   "id": "f254b81e",
   "metadata": {},
   "source": [
    "**Question 26-  Write a python program using RegEx to accept string ending with alphanumeric character."
   ]
  },
  {
   "cell_type": "code",
   "execution_count": 34,
   "id": "92c67b63",
   "metadata": {},
   "outputs": [
    {
     "name": "stdout",
     "output_type": "stream",
     "text": [
      "['Rahul123']\n"
     ]
    }
   ],
   "source": [
    "##Answer 26\n",
    "string = 'Rahul123'\n",
    "pattern = '[A-Za-z0-9]+$'\n",
    "output = re.findall(pattern, string)\n",
    "print(output)"
   ]
  },
  {
   "cell_type": "markdown",
   "id": "da8726fc",
   "metadata": {},
   "source": [
    "**Question 27-Write a python program using RegEx to extract the hashtags.\n",
    "Sample Text:  \"\"\"RT @kapil_kausik: #Doltiwal I mean #xyzabc is \"hurt\" by #Demonetization as the same has rendered USELESS <ed><U+00A0><U+00BD><ed><U+00B1><U+0089> \"acquired funds\" No wo\"\"\"\n",
    "Expected Output: ['#Doltiwal', '#xyzabc', '#Demonetization']\n"
   ]
  },
  {
   "cell_type": "code",
   "execution_count": 35,
   "id": "86750755",
   "metadata": {},
   "outputs": [
    {
     "name": "stdout",
     "output_type": "stream",
     "text": [
      "['#Doltiwal', '#xyzabc', '#Demonetization']\n"
     ]
    }
   ],
   "source": [
    "## Answer 27\n",
    "sample_text = '\"\"\"RT @kapil_kausik: #Doltiwal I mean #xyzabc is \"hurt\" by #Demonetization as the same has rendered USELESS <ed><U+00A0><U+00BD><ed><U+00B1><U+0089> \"acquired funds\" No wo\"\"\"'\n",
    "pattern = '[#]\\w+'\n",
    "output = re.findall(pattern, sample_text)\n",
    "print(output)"
   ]
  },
  {
   "cell_type": "markdown",
   "id": "c5820b08",
   "metadata": {},
   "source": [
    "**Question 28- Write a python program using RegEx to remove <U+..> like symbols\n",
    "Check the below sample text, there are strange symbols something of the sort <U+..> all over the place. You need to come up with a general Regex expression that will cover all such symbols.\n",
    "Sample Text: \"@Jags123456 Bharat band on 28??<ed><U+00A0><U+00BD><ed><U+00B8><U+0082>Those who  are protesting #demonetization  are all different party leaders\"\n",
    "Expected Output: @Jags123456 Bharat band on 28??<ed><ed>Those who  are protesting #demonetization  are all different party leaders"
   ]
  },
  {
   "cell_type": "code",
   "execution_count": 36,
   "id": "41eef34c",
   "metadata": {},
   "outputs": [
    {
     "name": "stdout",
     "output_type": "stream",
     "text": [
      "@Jags123456 Bharat band on 28??Those who are protesting #demonetization are all different party leaders\n"
     ]
    }
   ],
   "source": [
    "## Answer 28\n",
    "sample_text = '@Jags123456 Bharat band on 28??<U+00A0><U+00BD><U+00B8><U+0082>Those who are protesting #demonetization are all different party leaders'\n",
    "pattern = r'<U\\+\\w{4}>'\n",
    "output = re.sub(pattern, '', sample_text)\n",
    "print(output)"
   ]
  },
  {
   "cell_type": "markdown",
   "id": "45c97130",
   "metadata": {},
   "source": [
    "**Question 29- Write a python program to extract dates from the text stored in the text file.\n",
    "Sample Text: Ron was born on 12-09-1992 and he was admitted to school 15-12-1999.\n",
    "Note- Store this sample text in the file and then extract dates.\n"
   ]
  },
  {
   "cell_type": "code",
   "execution_count": 37,
   "id": "28c6e5d3",
   "metadata": {},
   "outputs": [
    {
     "name": "stdout",
     "output_type": "stream",
     "text": [
      "['12-09-1992', '15-12-1999']\n"
     ]
    }
   ],
   "source": [
    "## Answer 29\n",
    "Text_file = open(r\"C:\\Users\\Admin\\Desktop\\Flip lobo\\text file\\Date_format_text.txt\")\n",
    "pattern = '\\d{2}-\\d{2}-\\d{4}'\n",
    "for date in Text_file:\n",
    "    match = re.findall(pattern, date)\n",
    "    print(match)\n"
   ]
  },
  {
   "cell_type": "markdown",
   "id": "2430fe1d",
   "metadata": {},
   "source": [
    "**Question 30- Create a function in python to remove all words from a string of length between 2 and 4.\n",
    "The use of the re.compile() method is mandatory.\n",
    "Sample Text: \"The following example creates an ArrayList with a capacity of 50 elements. 4 elements are then added to the ArrayList and the ArrayList is trimmed accordingly.\"\n",
    "Expected Output:  following example creates ArrayList a capacity elements. 4 elements added ArrayList ArrayList trimmed accordingly.\n"
   ]
  },
  {
   "cell_type": "code",
   "execution_count": 40,
   "id": "d8bba3f2",
   "metadata": {},
   "outputs": [
    {
     "name": "stdout",
     "output_type": "stream",
     "text": [
      " following example creates  ArrayList  a capacity   elements. 4 elements   added   ArrayList   ArrayList  trimmed accordingly.\n"
     ]
    }
   ],
   "source": [
    "## Answer 30\n",
    "sample_text = 'The following example creates an ArrayList with a capacity of 50 elements. 4 elements are then added to the ArrayList and the ArrayList is trimmed accordingly.'\n",
    "pattern = r'\\b\\w{2,4}\\b'\n",
    "regex_pattern = re.compile(pattern)\n",
    "output = regex_pattern.sub('', sample_text)\n",
    "print(output)"
   ]
  },
  {
   "cell_type": "code",
   "execution_count": null,
   "id": "8f097515",
   "metadata": {},
   "outputs": [],
   "source": []
  }
 ],
 "metadata": {
  "kernelspec": {
   "display_name": "Python 3 (ipykernel)",
   "language": "python",
   "name": "python3"
  },
  "language_info": {
   "codemirror_mode": {
    "name": "ipython",
    "version": 3
   },
   "file_extension": ".py",
   "mimetype": "text/x-python",
   "name": "python",
   "nbconvert_exporter": "python",
   "pygments_lexer": "ipython3",
   "version": "3.9.13"
  }
 },
 "nbformat": 4,
 "nbformat_minor": 5
}
